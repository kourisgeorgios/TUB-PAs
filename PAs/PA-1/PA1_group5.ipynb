{
 "cells": [
  {
   "cell_type": "markdown",
   "metadata": {},
   "source": [
    "# Programming Assignment 1\n",
    "## \"I can't focus with all that noise!\"\n",
    "<!-- Licensed under (CC BY 4.0) Gert Herold, 2021 -->"
   ]
  },
  {
   "cell_type": "markdown",
   "metadata": {},
   "source": [
    "Insert the names of the group members here:\n",
    "  \n",
    "  * Georgios Kouris\n",
    "  * Xinchen Yao"
   ]
  },
  {
   "cell_type": "markdown",
   "metadata": {},
   "source": [
    "Following complaints from numerous people working or studying from home about the noise pollution caused by a permanent construction site, the average sound pressure level $L_\\text{A,eq}$ was determined over several months on working days at a representative immission site."
   ]
  },
  {
   "cell_type": "code",
   "execution_count": 1,
   "metadata": {},
   "outputs": [],
   "source": [
    "# All values in dB\n",
    "LAeq = {'January': [69.1217, 57.9412, 58.3591, 55.6352, 65.327, 49.4923, 69.7241, 57.194, 62.5952, 59.7531, 68.3105, \n",
    "                   50.6993, 59.3879, 59.0797, 66.6688, 55.5005, 60.1379, 56.6107, 61.2111, 63.9141, 55.4969, 66.7236], \n",
    "        'February': [65.508, 63.5125, 65.5043, 57.5814, 60.3855, 56.3212, 59.6606, 63.6518, 57.5417, 59.0162, 57.5641, \n",
    "                    56.774, 57.6438, 60.9367, 55.4134, 62.1721, 69.299, 64.7102, 60.0408, 56.5619], \n",
    "        'March': [57.2642, 69.4623, 61.254, 57.815, 61.9546, 71.5013, 61.6008, 64.086, 62.5009, 59.2388, 55.2874, \n",
    "                 59.2533, 59.9555, 63.9331, 65.1949, 65.6555, 62.4279, 65.4257, 57.228, 67.2643, 63.5646, 59.5095], \n",
    "        'April': [63.4426, 60.6221, 66.6581, 68.5991, 71.9279, 54.0175, 53.7794, 58.4777, 61.8002, 65.3808, \n",
    "                  62.5782, 50.889, 59.469, 65.1399, 62.1505, 64.8101, 59.8884, 59.9962, 61.9328, 63.0503], \n",
    "        'May': [61.9915, 61.595, 57.6467, 62.8878, 61.6091, 66.6474, 66.9946, 61.9258, 59.1236, 57.8063, 63.1175, \n",
    "                61.3867, 59.2807, 61.218, 57.9, 64.4902, 58.7644, 67.1225], \n",
    "        'June': [63.0175, 63.9679, 55.5254, 61.8469, 64.7028, 56.2315, 59.6689, 61.1631, 54.1344, 62.5758, 65.2308, \n",
    "                 56.7024, 62.7527, 54.4386, 60.8065, 52.9211, 66.6071, 63.0445, 60.8769, 57.1242, 67.3688]}"
   ]
  },
  {
   "cell_type": "markdown",
   "metadata": {},
   "source": [
    "**1. For each month, report the highest level with one decimal place as continuous text.**\n",
    " \n",
    "Example:\n",
    "\n",
    "    In August, a maximum average level of 71.2 dB was measured.\n",
    "    \n",
    "*(For a note on text formatting under Python, open the hidden section below)*"
   ]
  },
  {
   "cell_type": "code",
   "execution_count": 86,
   "metadata": {
    "tags": []
   },
   "outputs": [
    {
     "name": "stdout",
     "output_type": "stream",
     "text": [
      "0001: One minute has 60 seconds. That are   0.0167 hours. Thus, one second correpsonds to 0.000278 hours.\n",
      "0002: One minute has 60 seconds. That are   0.0167 hours. Thus, one second correpsonds to 0.000278 hours.\n",
      "0003: One minute has 60 seconds. That are   0.0167 hours. Thus, one second correpsonds to 0.000278 hours.\n"
     ]
    }
   ],
   "source": [
    "# Note: Strings in Python with formatting placeholders -- different ways to the same goal\n",
    "s = 'second'\n",
    "m = 'minute'\n",
    "h = 'hour'\n",
    "s_per_m = 60\n",
    "h_per_m = 1/60\n",
    "\n",
    "print('%04d: One %s has %d %ss. That are %8.4f %ss. Thus, one %s correpsonds to %.6f %ss.' % (1, m, s_per_m, s, h_per_m, h, s, h_per_m/s_per_m, h))\n",
    "print('{:04d}: One {} has {} {}s. That are {:8.4f} {}s. Thus, one {} correpsonds to {:.6f} {}s.'.format(2, m, s_per_m, s, h_per_m, h, s, h_per_m/s_per_m, h))\n",
    "print(f'{3:04d}: One {m} has {s_per_m} {s}s. That are {h_per_m:8.4f} {h}s. Thus, one {s} correpsonds to {h_per_m/s_per_m:.6f} {h}s.')"
   ]
  },
  {
   "cell_type": "code",
   "execution_count": 122,
   "metadata": {},
   "outputs": [
    {
     "name": "stdout",
     "output_type": "stream",
     "text": [
      "In January, a maximum average level of 69.7 dB was measured.\n",
      "In February, a maximum average level of 69.3 dB was measured.\n",
      "In March, a maximum average level of 71.5 dB was measured.\n",
      "In April, a maximum average level of 71.9 dB was measured.\n",
      "In May, a maximum average level of 67.1 dB was measured.\n",
      "In June, a maximum average level of 67.4 dB was measured.\n"
     ]
    }
   ],
   "source": [
    "for month in LAeq:\n",
    "    max_dB=max(LAeq[month])\n",
    "    print('In %s, a maximum average level of %.1f dB was measured.' % (month, max_dB))"
   ]
  },
  {
   "cell_type": "markdown",
   "metadata": {},
   "source": [
    "**2. Calculate for each month the number of days on which the [permissible noise limit in Germany](http://www.verwaltungsvorschriften-im-internet.de/bsvwvbund_26081998_IG19980826.htm) for urban areas of 63 dB was exceeded and calculate their percentage share of the total number of working days in the respective month.**\n",
    "\n",
    "Example:\n",
    "\n",
    "    July    :  6 days (26.1 %)\n",
    "    August  :  9 days (42.9 %)\n",
    "    \n",
    "<!-- working days July: 23, August: 21 -->"
   ]
  },
  {
   "cell_type": "code",
   "execution_count": 121,
   "metadata": {},
   "outputs": [
    {
     "name": "stdout",
     "output_type": "stream",
     "text": [
      "January  : 7 days (31.8 %)\n",
      "February : 6 days (30.0 %)\n",
      "March    : 9 days (40.9 %)\n",
      "April    : 8 days (40.0 %)\n",
      "May      : 5 days (27.8 %)\n",
      "June     : 7 days (33.3 %)\n"
     ]
    }
   ],
   "source": [
    "sound_limit=63 #in dB\n",
    "for month in LAeq:\n",
    "    sound_level_list=LAeq[month]\n",
    "    counter=0\n",
    "    for sound_level in sound_level_list:\n",
    "        if sound_level>sound_limit:\n",
    "            counter+=1\n",
    "    percentage=100*counter/len(sound_level_list)\n",
    "    print('%-8s : %d days (%.1f %s)' % (month, counter, percentage, '%'))"
   ]
  },
  {
   "cell_type": "markdown",
   "metadata": {},
   "source": [
    "**3. Extensive noise reduction measures could decrease the level by an average of 6 dB. Based on the given values, provide an estimate of how many (working) days per [year](https://en.wikipedia.org/wiki/Year) noise limits would still be exceeded. What does it look like with 7 dB average level reduction?**"
   ]
  },
  {
   "cell_type": "code",
   "execution_count": 120,
   "metadata": {},
   "outputs": [
    {
     "name": "stdout",
     "output_type": "stream",
     "text": [
      "Noise Reduction by 6 dB: 12 working days per year\n",
      "Noise Reduction by 7 dB:  4 working days per year\n"
     ]
    }
   ],
   "source": [
    "sound_limit=63 #in dB\n",
    "for noise_reduction in [6, 7]:\n",
    "    counter=0\n",
    "    for month in LAeq:\n",
    "        sound_level_list=LAeq[month]\n",
    "        for sound_level in sound_level_list:\n",
    "            if sound_level-noise_reduction>sound_limit:\n",
    "                counter+=1\n",
    "    print('Noise Reduction by %d dB: %2d working days per year' % (noise_reduction, counter*2))"
   ]
  }
 ],
 "metadata": {
  "kernelspec": {
   "display_name": "Python 3",
   "language": "python",
   "name": "python3"
  },
  "language_info": {
   "codemirror_mode": {
    "name": "ipython",
    "version": 3
   },
   "file_extension": ".py",
   "mimetype": "text/x-python",
   "name": "python",
   "nbconvert_exporter": "python",
   "pygments_lexer": "ipython3",
   "version": "3.8.5"
  }
 },
 "nbformat": 4,
 "nbformat_minor": 4
}
