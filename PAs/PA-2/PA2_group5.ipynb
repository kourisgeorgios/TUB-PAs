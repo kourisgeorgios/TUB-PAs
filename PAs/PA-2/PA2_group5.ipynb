{
 "cells": [
  {
   "cell_type": "markdown",
   "metadata": {},
   "source": [
    "# Programming Assignment 2\n",
    "## \"Draining the reservoir\"\n",
    "<!-- Licensed under (CC BY 4.0) Gert Herold, 2021 -->"
   ]
  },
  {
   "cell_type": "markdown",
   "metadata": {},
   "source": [
    "Insert the names of the group members here:\n",
    "  \n",
    "  * George Kouris\n",
    "  * Xinchen Yao"
   ]
  },
  {
   "cell_type": "markdown",
   "metadata": {},
   "source": [
    "Due to repair work on the retaining wall of a water reservoir, the water is to be drained. The lake has a capacity of $V_0=215 \\cdot 10^6\\,\\text{m}^3$. The surface area of the reservoir extends over $10\\,\\text{km}^2$. The water outlet at the bottom of the lake has a cross-section of $2\\,\\text{m}^2$. The river itself is diverted so that currently no water can flow into the lake."
   ]
  },
  {
   "cell_type": "markdown",
   "metadata": {},
   "source": [
    "**1) Assume that the shape of the lake can be approximated by an upside-down [cone](https://en.wikipedia.org/wiki/Cone). How deep is the lake?** _(Note: The outlet cross-section is so small in relation to the surface that the cone can be assumed to be pointed.)_"
   ]
  },
  {
   "cell_type": "code",
   "execution_count": 1,
   "metadata": {},
   "outputs": [
    {
     "name": "stdout",
     "output_type": "stream",
     "text": [
      "The lake is 64.5 meters deep.\n"
     ]
    }
   ],
   "source": [
    "volume=215*10**6 # in cubic meters\n",
    "surface_area=10**7 # in square meters\n",
    "height=3*volume/surface_area #in meters\n",
    "print(\"The lake is\", height,\"meters deep.\")"
   ]
  },
  {
   "cell_type": "markdown",
   "metadata": {},
   "source": [
    "For the sake of simplicity, it is assumed that the developing flow can be described with the help of the [Bernoulli equation](https://en.wikipedia.org/wiki/Bernoulli%27s_principle):\n",
    "\n",
    "\n",
    "$$\n",
    "\\frac{u^2}{2}+\\frac{p}{\\rho}+g \\, z = \\text{const}\n",
    "$$\n",
    "\n",
    "with\n",
    "\n",
    "|||\n",
    "|-|-|\n",
    "|$u$ | flow speed of the water |\n",
    "|$p$ | hydrodynamic pressure| \n",
    "|$\\rho$| density of water |\n",
    "|$z$ | elevation above a reference plane |\n",
    "|$g=9{,}81\\frac{\\text{m}}{\\text{s}^2}$ | gravitational acceleration| \n",
    "\n",
    "If only the lake surface and the outlet are considered, the pressure $p$ can also be assumed to be constant, as it corresponds to the ambient pressure. Likewise, the density is assumed to be constant, and the above equation simplifies to \n",
    "\n",
    "$$\n",
    "\\frac{u^2}{2}+g \\, z = \\text{const}\n",
    "$$\n",
    "\n",
    "i.e. for top and bottom:\n",
    "\n",
    "$$\n",
    "\\frac{u_\\text{top}^2}{2}+g \\, z_\\text{top} = \\frac{u_\\text{bottom}^2}{2}+g \\, z_\\text{bottom}\n",
    "$$\n",
    "\n",
    "The reference point for the $z$ values can be chosen arbitrarily. \n",
    "Let the depth $h$ of the lake be defined as the difference between the height of the surface and the height of the outlet:\n",
    "\n",
    "$$\n",
    "h = z_\\text{top} - z_\\text{bottom}\n",
    "$$"
   ]
  },
  {
   "cell_type": "markdown",
   "metadata": {},
   "source": [
    "**2) Calculate the initial flow velocity at the outlet $u_\\text{bottom,0}$ and the volumetric flow $\\dot{V_0}$ assuming that the movement of the lake surface is negligible.**"
   ]
  },
  {
   "cell_type": "code",
   "execution_count": 2,
   "metadata": {},
   "outputs": [
    {
     "name": "stdout",
     "output_type": "stream",
     "text": [
      "The initial flow velocity at the outlet is 35.57 meters per second.\n",
      "The volumetric flow is 71.15 cubic meters per second.\n"
     ]
    }
   ],
   "source": [
    "g=9.81 # in m/s^2\n",
    "bottom_area=2 # in square meters\n",
    "u_bottom_0=(2*g*height)**0.5   # initial flow velocity at the bottom, in m/s\n",
    "volumetric_flow=bottom_area*u_bottom_0  # volumetric flow (at the bottom), in m^3/s\n",
    "print('The initial flow velocity at the outlet is %.2f meters per second.\\nThe volumetric flow is %.2f cubic meters per second.' % (u_bottom_0, volumetric_flow))"
   ]
  },
  {
   "cell_type": "markdown",
   "metadata": {},
   "source": [
    "Tip: To be able to use the constant $\\pi$ under Python, you must either define it yourself or import it, e.g. from the [NumPy module](https://numpy.org/). For an example, open the following code section."
   ]
  },
  {
   "cell_type": "code",
   "execution_count": 3,
   "metadata": {
    "tags": []
   },
   "outputs": [],
   "source": [
    "# import pi from numpy\n",
    "#from numpy import pi\n",
    "\n",
    "# calculate \"radius\" of the lake surface\n",
    "#r0 = (A0/pi)**0.5\n",
    "#print(f'radius: {r0/1000:.2f} km')"
   ]
  },
  {
   "cell_type": "markdown",
   "metadata": {},
   "source": [
    "**3) Write a function that determines and returns the depth of the \"cone\" lake in general depending on the amount of water $V$ it contains.** _(Note that the shape of the lake [does not change](https://en.wikipedia.org/wiki/Intercept_theorem) and thus the value given above for the surface area only applies when the lake is full.)_"
   ]
  },
  {
   "cell_type": "code",
   "execution_count": 4,
   "metadata": {},
   "outputs": [],
   "source": [
    "from numpy import pi\n",
    "surface_radius=(surface_area/pi)**0.5 # in meters\n",
    "const=surface_radius/height\n",
    "\n",
    "def depth(V):  # depth: in meters, V: in cubic meters\n",
    "    depth=(3*V/(pi*const**2))**(1/3)\n",
    "    return(round(depth, 2))\n",
    "    \n",
    "vol=input(\"What's the volume of the lake (in cubic meters) at the moment?\")\n",
    "print('The lake with %.2f cubic meters of water is %.2f meters deep.' % (float(vol), depth(float(vol))))"
   ]
  },
  {
   "cell_type": "markdown",
   "metadata": {},
   "source": [
    "**4) Write a function which, starting from the volume $V_0$ and a given time step $\\Delta t$, returns the discrete time history of the water depth $h(t)$ until the lake is emptied. Note that the volume flow also changes in time.** *(The change in volume can be approximated by $V_{n+1}=V_n-\\dot{V_n} \\cdot \\Delta t$.)*."
   ]
  },
  {
   "cell_type": "code",
   "execution_count": null,
   "metadata": {},
   "outputs": [
    {
     "name": "stdout",
     "output_type": "stream",
     "text": [
      "How long is the time step? 345600\n"
     ]
    },
    {
     "name": "stdout",
     "output_type": "stream",
     "text": [
      "The time step list:\n",
      " [0, 345600, 691200, 1036800, 1382400, 1728000, 2073600, 2419200, 2764800, 3110400, 3456000] \n",
      "The height history list:\n",
      " [64.5, 61.94, 59.21, 56.27, 53.07, 49.55, 45.59, 41.01, 35.44, 27.92, 11.61]\n"
     ]
    }
   ],
   "source": [
    "def drain_it(V0, dt): # in cubic meters and seconds\n",
    "    t_list=[] # in seconds\n",
    "    h_list=[] # in meters\n",
    "    volume=V0 # in cubic meters\n",
    "    counter=0\n",
    "    while (volume>=0):\n",
    "        t_list+=[counter*dt]\n",
    "        counter+=1\n",
    "        depth_=depth(volume)\n",
    "        h_list+=[depth_]\n",
    "        new_flow_velocity=(2*g*depth_)**0.5 # in meters per second\n",
    "        volumetric_flow=bottom_area*new_flow_velocity # in cubic meters per second\n",
    "        volume-=volumetric_flow*dt # in cubic meters\n",
    "    return t_list, h_list\n",
    "dt=input(\"How long is the time step?\")\n",
    "(x,y)=drain_it(215000000, int(dt))\n",
    "print(\"The time step list:\\n\", x,\"\\nThe height history list:\\n\", y)"
   ]
  },
  {
   "cell_type": "markdown",
   "metadata": {},
   "source": [
    "**5) How long does it take for the reservoir to be completely drained?**\n",
    "  * Plot the time progression of water depth to emptying for two time increments:\n",
    "    * $\\Delta t_1$ = 1 minute\n",
    "    * $\\Delta t_2$ = 4 days\n",
    "  * Draw both progressions in _one_ diagram and discuss noticeable features.\n",
    "\n",
    "_Note: The lake also counts as empty if more water would run off in the next time step than is still contained in the lake._"
   ]
  },
  {
   "cell_type": "code",
   "execution_count": null,
   "metadata": {},
   "outputs": [
    {
     "data": {
      "image/png": "[encoded data removed]",
      "text/plain": [
       "<Figure size 432x288 with 1 Axes>"
      ]
     },
     "metadata": {
      "needs_background": "light"
     },
     "output_type": "display_data"
    }
   ],
   "source": [
    "%matplotlib inline\n",
    "from matplotlib.pyplot import plot, show\n",
    "# Plot command: plot(x_values_list, y_values_list)\n",
    "\n",
    "(x,y)=drain_it(215000000, 60)\n",
    "(a,b)=drain_it(215000000, 345600)\n",
    "plot(x,y)\n",
    "plot(a,b)\n",
    "show()"
   ]
  },
  {
   "cell_type": "markdown",
   "metadata": {},
   "source": [
    "**6) Repeat task 5), now assuming that the lake is approximately described by a *cylinder* with the same volume, the same surface area and the same outlet cross-section. Write as little new code as possible for this.**\n",
    "\n",
    "_Note: The shape of the lake should only occur in the function `depth()`, i.e. you only need to change / redefine this._"
   ]
  },
  {
   "cell_type": "code",
   "execution_count": null,
   "metadata": {},
   "outputs": [],
   "source": [
    "#height=volume/surface_area\n",
    "def depth(V): # depth: in meters, V: in cubic meters\n",
    "    depth=V/surface_area\n",
    "    return(round(depth,2))\n",
    "#(x,y)=drain_it(215000000, 60)\n",
    "#(a,b)=drain_it(215000000, 345600)\n",
    "#plot(x, y)\n",
    "#plot(a, b)\n",
    "#show()"
   ]
  }
 ],
 "metadata": {
  "kernelspec": {
   "display_name": "Python 3",
   "language": "python",
   "name": "python3"
  },
  "language_info": {
   "codemirror_mode": {
    "name": "ipython",
    "version": 3
   },
   "file_extension": ".py",
   "mimetype": "text/x-python",
   "name": "python",
   "nbconvert_exporter": "python",
   "pygments_lexer": "ipython3",
   "version": "3.11.0"
  }
 },
 "nbformat": 4,
 "nbformat_minor": 4
}
